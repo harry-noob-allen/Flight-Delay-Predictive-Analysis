{
 "cells": [
  {
   "cell_type": "code",
   "execution_count": 1,
   "id": "6c5d13e2",
   "metadata": {},
   "outputs": [
    {
     "name": "stderr",
     "output_type": "stream",
     "text": [
      "naivebayes 1.0.0 loaded\n",
      "\n",
      "For more information please visit: \n",
      "\n",
      "https://majkamichal.github.io/naivebayes/\n",
      "\n",
      "Loading required package: ggplot2\n",
      "\n",
      "Loading required package: lattice\n",
      "\n"
     ]
    }
   ],
   "source": [
    "# importing necessary libraries\n",
    "library(rpart)\n",
    "library(naivebayes)\n",
    "library(caret)\n",
    "\n",
    "# loading the datset\n",
    "data <- read.csv(\"naive_bayes_data.csv\")\n",
    "\n",
    "# changing the categorical data to factor datatype\n",
    "data$origin_state = as.factor(data$origin_state)\n",
    "data$destination_state = as.factor(data$destination_state)\n",
    "data$total_weather_delay = as.factor(data$total_weather_delay)\n",
    "\n",
    "#creating training and testing dataset\n",
    "size <- (as.integer(nrow(data)*3/10))  \n",
    "sample <- sample(nrow(data), Size)\n",
    "test_data<-data[sample, ]\n",
    "train_data<-data[-sample, ]\n",
    "\n",
    "# remove the labels from training and testing dataset\n",
    "test_labels <- test_data$total_weather_delay\n",
    "test_data<-test_data[ , -which(names(test_data) %in% c(\"total_weather_delay\"))]\n",
    "train_labels <- train_data$total_weather_delay\n",
    "train_data<-train_data[ , -which(names(train_data) %in% c(\"total_weather_delay\"))]\n",
    "\n",
    "# creating the naive bayes model\n",
    "naive<-naivebayes::naive_bayes(train_data, train_labels, laplace = 1)\n",
    "\n",
    "# predicting the test data using model\n",
    "pred <- predict(naive, test_data)\n",
    "\n",
    "# computing confusion matrix\n",
    "confMat <- table(pred,test_labels)\n",
    "cf <- confusionMatrix(pred, test_labels)\n",
    "\n",
    "# computing the accuracy\n",
    "accuracy <- sum(diag(confMat))/sum(confMat)\n",
    "\n",
    "# Visualizing Confusion Matrix\n",
    "fourfoldplot(as.table(cf),color=c(\"yellow\",\"pink\"),main = \"Confusion Matrix\")\n",
    "\n",
    "# Plot heatmap of confusion matrix using ggplot2\n",
    "options(repr.plot.width = 12, repr.plot.height = 8)\n",
    "conf_matrix <- confusionMatrix(data = pred, reference = test_labels)\n",
    "conf_matrix <- as.matrix(conf_matrix$table)\n",
    "conf_matrix_df <- as.data.frame(as.table(conf_matrix))\n",
    "names(conf_matrix_df) <- c(\"Predicted\", \"Actual\", \"Frequency\")\n",
    "ggplot(data = conf_matrix_df, aes(x = Actual, y = Predicted, fill = Frequency)) +\n",
    "  geom_tile(color = \"white\") +\n",
    "  geom_text(aes(label = Frequency)) +\n",
    "  scale_fill_gradient(low = \"white\", high = \"blue\") +\n",
    "  theme_minimal() +\n",
    "  labs(title = \"Confusion Matrix Heatmap\",\n",
    "       x = \"Actual\",\n",
    "       y = \"Predicted\")\n",
    "\n",
    "# computing F1\n",
    "f1_scores <- cf$byClass[\"F1\"]\n",
    "\n",
    "# Print F1 scores\n",
    "print(f1_scores)"
   ]
  }
 ],
 "metadata": {
  "kernelspec": {
   "display_name": "R",
   "language": "R",
   "name": "ir"
  },
  "language_info": {
   "codemirror_mode": "r",
   "file_extension": ".r",
   "mimetype": "text/x-r-source",
   "name": "R",
   "pygments_lexer": "r",
   "version": "4.3.1"
  }
 },
 "nbformat": 4,
 "nbformat_minor": 5
}
