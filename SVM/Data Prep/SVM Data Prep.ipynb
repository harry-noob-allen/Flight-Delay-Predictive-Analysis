{
 "cells": [
  {
   "cell_type": "code",
   "execution_count": 3,
   "id": "d8e0b21a",
   "metadata": {},
   "outputs": [
    {
     "name": "stderr",
     "output_type": "stream",
     "text": [
      "/var/folders/dk/t8x80b1x0h7gt1wqwqv8gbm40000gn/T/ipykernel_55611/1554088183.py:40: SettingWithCopyWarning: \n",
      "A value is trying to be set on a copy of a slice from a DataFrame.\n",
      "Try using .loc[row_indexer,col_indexer] = value instead\n",
      "\n",
      "See the caveats in the documentation: https://pandas.pydata.org/pandas-docs/stable/user_guide/indexing.html#returning-a-view-versus-a-copy\n",
      "  flight_df_with_weather_delay_filtered['total_weather_delay'] = round(flight_df_with_weather_delay_filtered['total_weather_delay'])\n",
      "/var/folders/dk/t8x80b1x0h7gt1wqwqv8gbm40000gn/T/ipykernel_55611/1554088183.py:54: FutureWarning: Setting an item of incompatible dtype is deprecated and will raise an error in a future version of pandas. Value 'Extended Delay' has dtype incompatible with float64, please explicitly cast to a compatible dtype first.\n",
      "  row['total_weather_delay'] = \"Extended Delay\"\n",
      "/var/folders/dk/t8x80b1x0h7gt1wqwqv8gbm40000gn/T/ipykernel_55611/1554088183.py:56: FutureWarning: Setting an item of incompatible dtype is deprecated and will raise an error in a future version of pandas. Value 'Short Delay' has dtype incompatible with float64, please explicitly cast to a compatible dtype first.\n",
      "  row['total_weather_delay'] = \"Short Delay\"\n"
     ]
    },
    {
     "name": "stdout",
     "output_type": "stream",
     "text": [
      "   origin_temperature  destination_temperature  total_weather_delay\n",
      "0              65.624                   53.024                  7.0\n",
      "1              33.566                    1.616                  0.0\n",
      "2              65.624                   53.024                  1.0\n",
      "3              28.310                   10.706                  3.0\n",
      "4              65.624                   53.024                  1.0\n",
      "---------------------------------------------------------------------------\n",
      "\n"
     ]
    }
   ],
   "source": [
    "import pandas as pd\n",
    "flight_df_with_weather_delay = pd.read_csv(\"Cleaned_Data.csv\")\n",
    "\n",
    "# coverting temperature from celcius to farenheit\n",
    "flight_df_with_weather_delay['origin_temperature'] = (flight_df_with_weather_delay['origin_temperature']*1.8) + 32\n",
    "flight_df_with_weather_delay['destination_temperature'] = (flight_df_with_weather_delay['destination_temperature']*1.8) + 32\n",
    "\n",
    "# transforming delays from minutes to hours\n",
    "flight_df_with_weather_delay['DEP_DELAY'] = flight_df_with_weather_delay['DEP_DELAY']/60\n",
    "flight_df_with_weather_delay['ARR_DELAY'] = flight_df_with_weather_delay['ARR_DELAY']/60\n",
    "flight_df_with_weather_delay['CARRIER_DELAY'] = flight_df_with_weather_delay['CARRIER_DELAY']/60\n",
    "flight_df_with_weather_delay['origin_weather_delay'] = flight_df_with_weather_delay['origin_weather_delay']/60\n",
    "flight_df_with_weather_delay['destination_weather_delay'] = flight_df_with_weather_delay['destination_weather_delay']/60\n",
    "flight_df_with_weather_delay['NAS_DELAY'] = flight_df_with_weather_delay['NAS_DELAY']/60\n",
    "flight_df_with_weather_delay['SECURITY_DELAY'] = flight_df_with_weather_delay['SECURITY_DELAY']/60\n",
    "\n",
    "# for ease of use renaming the columns\n",
    "flight_df_with_weather_delay.rename(columns=\n",
    "                                            {\"FL_DATE\": \"flight_date\", \n",
    "                                            \"OP_CARRIER_FL_NUM\": \"flight_num\",\n",
    "                                            \"ORIGIN_AIRPORT_ID\": \"origin_airport_id\",\n",
    "                                            \"DEST_AIRPORT_ID\":\"destination_airport_id\",\n",
    "                                            \"DEP_DELAY\":\"departure_delay\",\n",
    "                                            \"ARR_DELAY\":\"arrival_delay\",\n",
    "                                            \"CARRIER_DELAY\":\"carrier_delay\",\n",
    "                                            \"NAS_DELAY\":\"nas_delay\",\n",
    "                                            \"SECURITY_DELAY\":\"security_delay\",\n",
    "                                            \"Description\":\"description\"},inplace=True)\n",
    "\n",
    "\n",
    "flight_df_with_weather_delay['total_weather_delay'] = flight_df_with_weather_delay['origin_weather_delay'] + flight_df_with_weather_delay['destination_weather_delay']\n",
    "\n",
    "\n",
    "\n",
    "# since model wont work properly when outliers are present even though they are true outliers needs to be removed. \n",
    "#And theres a article which states any delay after 12 hrs calls for automatic cancellation of flights\n",
    "flight_df_with_weather_delay_filtered = flight_df_with_weather_delay[flight_df_with_weather_delay['total_weather_delay'] < 12]\n",
    "\n",
    "# rounding up the delays\n",
    "flight_df_with_weather_delay_filtered['total_weather_delay'] = round(flight_df_with_weather_delay_filtered['total_weather_delay'])\n",
    "\n",
    "\n",
    "svm = flight_df_with_weather_delay_filtered[['origin_temperature','destination_temperature','total_weather_delay']]\n",
    "\n",
    "# displaying the data\n",
    "print(svm.head())\n",
    "\n",
    "print(\"---------------------------------------------------------------------------\\n\")\n",
    "\n",
    "\n",
    "# function for discretizing the weather delays into category\n",
    "def delay_labels(row):\n",
    "    if (row['total_weather_delay'] >= 1):\n",
    "        row['total_weather_delay'] = \"Extended Delay\"\n",
    "    else:\n",
    "        row['total_weather_delay'] = \"Short Delay\"\n",
    "    return row\n",
    "\n",
    "\n",
    "# applying the function to the dataframe     \n",
    "svm = svm.apply(delay_labels,axis=1)\n",
    "# converting it to csv\n",
    "svm.to_csv(\"svm_data.csv\",index=False)\n",
    "\n"
   ]
  },
  {
   "cell_type": "code",
   "execution_count": null,
   "id": "bf3d6d6a",
   "metadata": {},
   "outputs": [],
   "source": []
  }
 ],
 "metadata": {
  "kernelspec": {
   "display_name": "Python 3 (ipykernel)",
   "language": "python",
   "name": "python3"
  },
  "language_info": {
   "codemirror_mode": {
    "name": "ipython",
    "version": 3
   },
   "file_extension": ".py",
   "mimetype": "text/x-python",
   "name": "python",
   "nbconvert_exporter": "python",
   "pygments_lexer": "ipython3",
   "version": "3.11.5"
  }
 },
 "nbformat": 4,
 "nbformat_minor": 5
}
